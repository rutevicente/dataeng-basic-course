{
  "cells": [
    {
      "cell_type": "markdown",
      "metadata": {
        "id": "view-in-github"
      },
      "source": [
        "<a href=\"https://colab.research.google.com/github/lucprosa/dataeng-basic-course/blob/main/spark_streaming/challenges/final_challenges.ipynb\" target=\"_parent\"><img src=\"https://colab.research.google.com/assets/colab-badge.svg\" alt=\"Open In Colab\"/></a>"
      ]
    },
    {
      "cell_type": "markdown",
      "metadata": {
        "id": "d9LeYFsPTjAb"
      },
      "source": [
        "# Setting up PySpark"
      ]
    },
    {
      "cell_type": "code",
      "execution_count": null,
      "metadata": {
        "colab": {
          "base_uri": "https://localhost:8080/"
        },
        "id": "uYXeODL0T1fO",
        "outputId": "8d84c86a-e9c3-4016-ddb9-0266bbc7ec77"
      },
      "outputs": [
        {
          "output_type": "stream",
          "name": "stdout",
          "text": [
            "Requirement already satisfied: pyspark in /usr/local/lib/python3.10/dist-packages (3.5.3)\n",
            "Requirement already satisfied: py4j==0.10.9.7 in /usr/local/lib/python3.10/dist-packages (from pyspark) (0.10.9.7)\n"
          ]
        }
      ],
      "source": [
        "%pip install pyspark"
      ]
    },
    {
      "cell_type": "code",
      "execution_count": null,
      "metadata": {
        "colab": {
          "base_uri": "https://localhost:8080/"
        },
        "id": "Udk3tohSaXOH",
        "outputId": "7187ee03-52a9-412f-90e0-096bbef3bba5"
      },
      "outputs": [
        {
          "output_type": "stream",
          "name": "stdout",
          "text": [
            "Collecting faker\n",
            "  Downloading Faker-33.1.0-py3-none-any.whl.metadata (15 kB)\n",
            "Requirement already satisfied: python-dateutil>=2.4 in /usr/local/lib/python3.10/dist-packages (from faker) (2.8.2)\n",
            "Requirement already satisfied: typing-extensions in /usr/local/lib/python3.10/dist-packages (from faker) (4.12.2)\n",
            "Requirement already satisfied: six>=1.5 in /usr/local/lib/python3.10/dist-packages (from python-dateutil>=2.4->faker) (1.16.0)\n",
            "Downloading Faker-33.1.0-py3-none-any.whl (1.9 MB)\n",
            "\u001b[2K   \u001b[90m━━━━━━━━━━━━━━━━━━━━━━━━━━━━━━━━━━━━━━━━\u001b[0m \u001b[32m1.9/1.9 MB\u001b[0m \u001b[31m15.1 MB/s\u001b[0m eta \u001b[36m0:00:00\u001b[0m\n",
            "\u001b[?25hInstalling collected packages: faker\n",
            "Successfully installed faker-33.1.0\n"
          ]
        }
      ],
      "source": [
        "%pip install faker"
      ]
    },
    {
      "cell_type": "markdown",
      "metadata": {
        "id": "Rcybt71kTDNt"
      },
      "source": [
        "# Context\n",
        "Message events are coming from platform message broker (kafka, pubsub, kinesis...).\n",
        "You need to process the data according to the requirements.\n",
        "\n",
        "Message schema:\n",
        "- timestamp\n",
        "- value\n",
        "- event_type\n",
        "- message_id\n",
        "- country_id\n",
        "- user_id\n",
        "\n"
      ]
    },
    {
      "cell_type": "markdown",
      "metadata": {
        "id": "JkyPORKNSYvV"
      },
      "source": [
        "# Challenge 1\n",
        "\n",
        "Step 1\n",
        "- Change exising producer\n",
        "\t- Change parquet location to \"/content/lake/bronze/messages/data\"\n",
        "\t- Add checkpoint (/content/lake/bronze/messages/checkpoint)\n",
        "\t- Delete /content/lake/bronze/messages and reprocess data\n",
        "\t- For reprocessing, run the streaming for at least 1 minute, then stop it\n",
        "\n",
        "Step 2\n",
        "- Implement new stream job to read from messages in bronze layer and split result in two locations\n",
        "\t- \"messages_corrupted\"\n",
        "\t\t- logic: event_status is null, empty or equal to \"NONE\"\n",
        "\t\t- extra logic: add country name by joining message with countries dataset\n",
        "\t\t- partition by \"date\" -extract it from timestamp\n",
        "\t\t- location: /content/lake/silver/messages_corrupted/data\n",
        "\n",
        "\t- \"messages\"\n",
        "\t\t- logic: not corrupted data\n",
        "\t\t- extra logic: add country name by joining message with countries dataset\n",
        "\t\t- partition by \"date\" -extract it from timestamp\n",
        "\t\t- location: /content/lake/silver/messages/data\n",
        "\n",
        "\t- technical requirements\n",
        "\t\t- add checkpoint (choose location)\n",
        "\t\t- use StructSchema\n",
        "\t\t- Set trigger interval to 5 seconds\n",
        "\t\t- run streaming for at least 20 seconds, then stop it\n",
        "\n",
        "\t- alternatives\n",
        "\t\t- implementing single streaming job with foreach/- foreachBatch logic to write into two locations\n",
        "\t\t- implementing two streaming jobs, one for messages and another for messages_corrupted\n",
        "\t\t- (paying attention on the paths and checkpoints)\n",
        "\n",
        "\n",
        "  - Check results:\n",
        "    - results from messages in bronze layer should match with the sum of messages+messages_corrupted in the silver layer"
      ]
    },
    {
      "cell_type": "markdown",
      "metadata": {
        "id": "cDGMKwBdi1qy"
      },
      "source": [
        "## Producer"
      ]
    },
    {
      "cell_type": "code",
      "execution_count": null,
      "metadata": {
        "id": "tPCOdivrfhYh"
      },
      "outputs": [],
      "source": [
        "import os\n",
        "import shutil\n",
        "import pyspark.sql.functions as F\n",
        "from pyspark.sql import DataFrame\n",
        "from faker import Faker\n",
        "from pyspark.sql import SparkSession\n",
        "\n",
        "# Initialize SparkSession\n",
        "spark = SparkSession.builder.appName('Test streaming').getOrCreate()\n",
        "sc = spark.sparkContext\n",
        "\n",
        "# Create instance Faker\n",
        "fake = Faker()\n",
        "messages = [fake.uuid4() for _ in range(50)]\n",
        "\n",
        "def enrich_data(df, messages=messages):\n",
        "    fake = Faker()\n",
        "    new_columns = {\n",
        "        'event_type': F.lit(fake.random_element(elements=('OPEN', 'RECEIVED', 'SENT', 'CREATED', 'CLICKED', '', 'NONE'))),\n",
        "        'message_id': F.lit(fake.random_element(elements=messages)),\n",
        "        'channel': F.lit(fake.random_element(elements=('CHAT', 'EMAIL', 'SMS', 'PUSH', 'OTHER'))),\n",
        "        'country_id': F.lit(fake.random_int(min=2000, max=2015)),\n",
        "        'user_id': F.lit(fake.random_int(min=1000, max=1050)),\n",
        "    }\n",
        "\n",
        "\n",
        "    for col_name, col_value in new_columns.items():\n",
        "        df = df.withColumn(col_name, col_value)\n",
        "\n",
        "    return df\n",
        "\n",
        "\n",
        "def insert_messages(df: DataFrame, batch_id):\n",
        "    enrich = enrich_data(df)\n",
        "    enrich.write.mode(\"append\").format(\"parquet\").save(\"/content/lake/bronze/messages/data\")\n",
        "\n",
        "\n",
        "def clean_directories_with_shutil():\n",
        "    parquet_location = \"/content/lake/bronze/messages/data\"\n",
        "    checkpoint_location = \"/content/lake/bronze/messages/checkpoint\"\n",
        "\n",
        "    # Check and remove directories\n",
        "    if os.path.exists(parquet_location):\n",
        "        shutil.rmtree(parquet_location)  # Remove any old Parquet directory\n",
        "    if os.path.exists(checkpoint_location):\n",
        "        shutil.rmtree(checkpoint_location)  # Remove any old Checkpoint directoty\n",
        "\n",
        "# Remove any old data\n",
        "clean_directories_with_shutil()\n",
        "\n",
        "# readStream the data\n",
        "df_stream = spark.readStream.format(\"rate\").option(\"rowsPerSecond\", 1).load()\n",
        "\n",
        "# writeStream the data and create the Checkpoint\n",
        "query = (df_stream.writeStream\n",
        "    .outputMode('append')\n",
        "    .trigger(processingTime='1 seconds')\n",
        "    .foreachBatch(insert_messages)\n",
        "    .option(\"checkpointLocation\", \"/content/lake/bronze/messages/checkpoint\")\n",
        "    .start()\n",
        ")\n",
        "\n",
        "# Run streaming for 1 minute (60 seconds)\n",
        "query.awaitTermination(60)\n",
        "\n",
        "# Stop streaming\n",
        "query.stop()"
      ]
    },
    {
      "cell_type": "code",
      "execution_count": null,
      "metadata": {
        "id": "ZWQExsnzlMFe",
        "colab": {
          "base_uri": "https://localhost:8080/"
        },
        "outputId": "3abf4b96-7e44-4afe-bd4e-8e3727f666bf"
      },
      "outputs": [
        {
          "output_type": "stream",
          "name": "stdout",
          "text": [
            "+--------------------+-----+----------+--------------------+-------+----------+-------+\n",
            "|           timestamp|value|event_type|          message_id|channel|country_id|user_id|\n",
            "+--------------------+-----+----------+--------------------+-------+----------+-------+\n",
            "|2024-12-08 18:21:...|    1|      NONE|3cfbca75-9a83-435...|    SMS|      2004|   1023|\n",
            "|2024-12-08 18:21:...|    3|      NONE|3cfbca75-9a83-435...|    SMS|      2004|   1023|\n",
            "|2024-12-08 18:21:...|    5|      NONE|3cfbca75-9a83-435...|    SMS|      2004|   1023|\n",
            "|2024-12-08 18:21:...|    7|      NONE|3cfbca75-9a83-435...|    SMS|      2004|   1023|\n",
            "|2024-12-08 18:21:...|    0|      NONE|3cfbca75-9a83-435...|    SMS|      2004|   1023|\n",
            "|2024-12-08 18:21:...|    2|      NONE|3cfbca75-9a83-435...|    SMS|      2004|   1023|\n",
            "|2024-12-08 18:21:...|    4|      NONE|3cfbca75-9a83-435...|    SMS|      2004|   1023|\n",
            "|2024-12-08 18:21:...|    6|      NONE|3cfbca75-9a83-435...|    SMS|      2004|   1023|\n",
            "|2024-12-08 18:22:...|   55|  RECEIVED|3c2d29dd-c920-45a...|  EMAIL|      2011|   1019|\n",
            "|2024-12-08 18:22:...|   52|  RECEIVED|f7e00f59-f4fc-4a9...|  OTHER|      2011|   1011|\n",
            "|2024-12-08 18:21:...|   37|   CLICKED|f150c63e-86f7-484...|  EMAIL|      2000|   1043|\n",
            "|2024-12-08 18:22:...|   57|   CREATED|5ff356ca-ca76-48f...|  EMAIL|      2010|   1002|\n",
            "|2024-12-08 18:21:...|   35|  RECEIVED|390aa5f4-e2e7-48d...|   CHAT|      2001|   1033|\n",
            "|2024-12-08 18:21:...|   18|   CREATED|cfa65ffe-429c-419...|  EMAIL|      2000|   1010|\n",
            "|2024-12-08 18:21:...|   48|   CLICKED|2bae94dc-4489-47c...|  EMAIL|      2001|   1026|\n",
            "|2024-12-08 18:21:...|   40|  RECEIVED|390aa5f4-e2e7-48d...|   PUSH|      2010|   1024|\n",
            "|2024-12-08 18:21:...|   15|  RECEIVED|9b08f8d9-1d22-406...|   PUSH|      2004|   1033|\n",
            "|2024-12-08 18:21:...|   13|  RECEIVED|87b515f4-4ea9-4a6...|   PUSH|      2013|   1011|\n",
            "|2024-12-08 18:21:...|   34|   CREATED|c848b07b-e19c-4ec...|  OTHER|      2012|   1012|\n",
            "|2024-12-08 18:21:...|   10|   CLICKED|c848b07b-e19c-4ec...|  EMAIL|      2015|   1049|\n",
            "+--------------------+-----+----------+--------------------+-------+----------+-------+\n",
            "only showing top 20 rows\n",
            "\n"
          ]
        }
      ],
      "source": [
        "df_bronze = spark.read.format(\"parquet\").load(\"/content/lake/bronze/messages/data\")\n",
        "df_bronze.show()"
      ]
    },
    {
      "cell_type": "markdown",
      "metadata": {
        "id": "RraxHCycMdEZ"
      },
      "source": [
        "## Additional datasets"
      ]
    },
    {
      "cell_type": "code",
      "execution_count": null,
      "metadata": {
        "id": "cfsus3dxMcQI"
      },
      "outputs": [],
      "source": [
        "countries = [\n",
        "    {\"country_id\": 2000, \"country\": \"Brazil\"},\n",
        "    {\"country_id\": 2001, \"country\": \"Portugal\"},\n",
        "    {\"country_id\": 2002, \"country\": \"Spain\"},\n",
        "    {\"country_id\": 2003, \"country\": \"Germany\"},\n",
        "    {\"country_id\": 2004, \"country\": \"France\"},\n",
        "    {\"country_id\": 2005, \"country\": \"Italy\"},\n",
        "    {\"country_id\": 2006, \"country\": \"United Kingdom\"},\n",
        "    {\"country_id\": 2007, \"country\": \"United States\"},\n",
        "    {\"country_id\": 2008, \"country\": \"Canada\"},\n",
        "    {\"country_id\": 2009, \"country\": \"Australia\"},\n",
        "    {\"country_id\": 2010, \"country\": \"Japan\"},\n",
        "    {\"country_id\": 2011, \"country\": \"China\"},\n",
        "    {\"country_id\": 2012, \"country\": \"India\"},\n",
        "    {\"country_id\": 2013, \"country\": \"South Korea\"},\n",
        "    {\"country_id\": 2014, \"country\": \"Russia\"},\n",
        "    {\"country_id\": 2015, \"country\": \"Argentina\"}\n",
        "]\n",
        "\n",
        "countries = spark.createDataFrame(countries)"
      ]
    },
    {
      "cell_type": "code",
      "source": [
        "# Check the schema of df_bronze\n",
        "df_bronze.schema"
      ],
      "metadata": {
        "colab": {
          "base_uri": "https://localhost:8080/"
        },
        "id": "zW3H6mKKU83L",
        "outputId": "b415a8bb-d327-46c8-d0a1-0ad900a9554c"
      },
      "execution_count": null,
      "outputs": [
        {
          "output_type": "execute_result",
          "data": {
            "text/plain": [
              "StructType([StructField('timestamp', TimestampType(), True), StructField('value', LongType(), True), StructField('event_type', StringType(), True), StructField('message_id', StringType(), True), StructField('channel', StringType(), True), StructField('country_id', IntegerType(), True), StructField('user_id', IntegerType(), True)])"
            ]
          },
          "metadata": {},
          "execution_count": 8
        }
      ]
    },
    {
      "cell_type": "code",
      "source": [
        "from pyspark.sql.types import StructType, StructField, LongType, StringType, TimestampType, IntegerType\n",
        "\n",
        "# Define schema of df_bronze\n",
        "message_schema = StructType([StructField('timestamp', TimestampType(), True),\n",
        "                             StructField('value', LongType(), True),\n",
        "                             StructField('event_type', StringType(), True),\n",
        "                             StructField('message_id', StringType(), True),\n",
        "                             StructField('channel', StringType(), True),\n",
        "                             StructField('country_id', IntegerType(), True),\n",
        "                             StructField('user_id', IntegerType(), True)])\n",
        "\n",
        "# readStream from bronze layer\n",
        "df_bronze_stream = spark.readStream.schema(message_schema).parquet(\"/content/lake/bronze/messages/data\")\n",
        "\n",
        "# Join of df_bronze with countries dataset\n",
        "df_bronze_with_country = df_bronze_stream.join(countries, on='country_id', how='left')"
      ],
      "metadata": {
        "id": "Uzsw4yKhi3bi"
      },
      "execution_count": null,
      "outputs": []
    },
    {
      "cell_type": "markdown",
      "metadata": {
        "id": "swvPj9hVpzNf"
      },
      "source": [
        "## Streaming Messages x Messages Corrupted"
      ]
    },
    {
      "cell_type": "markdown",
      "source": [
        "Implementing two streaming jobs, one for messages and another for messages_corrupted."
      ],
      "metadata": {
        "id": "0jJwBJi3eo95"
      }
    },
    {
      "cell_type": "code",
      "execution_count": null,
      "metadata": {
        "id": "ZAHIZeZMlpoH"
      },
      "outputs": [],
      "source": [
        "# Filter corrupted data (corrupted messages)\n",
        "df_corrupted = df_bronze_with_country.filter(\n",
        "    (F.col('event_type').isNull()) |\n",
        "    (F.col('event_type') == '') |\n",
        "    (F.col('event_type') == 'NONE')\n",
        ")\n",
        "\n",
        "# Filter non corrupted data (valid messages)\n",
        "df_valid = df_bronze_with_country.filter(\n",
        "    ~((F.col('event_type').isNull()) |\n",
        "      (F.col('event_type') == '') |\n",
        "      (F.col('event_type') == 'NONE'))\n",
        ")\n",
        "\n",
        "# Add column 'date' and write with partition by \"date\"\n",
        "def insert_corrupted_messages(df, batch_id):\n",
        "    df_with_date = df.withColumn(\"date\", F.to_date(F.col(\"timestamp\"))) # Add column 'date''\n",
        "    df_with_date.write.mode(\"append\").partitionBy(\"date\").format(\"parquet\").save(\"/content/lake/silver/messages_corrupted/data\") # partitionBy 'date'\n",
        "\n",
        "def insert_valid_messages(df, batch_id):\n",
        "    df_with_date = df.withColumn(\"date\", F.to_date(F.col(\"timestamp\")))\n",
        "    df_with_date.write.mode(\"append\").partitionBy(\"date\").format(\"parquet\").save(\"/content/lake/silver/messages/data\")\n",
        "\n",
        "\n",
        "# writeStream fo corrupted messages\n",
        "query_corrupted = (df_corrupted.writeStream\n",
        "    .outputMode('append')\n",
        "    .trigger(processingTime='5 seconds')  # trigger interval to 5 seconds\n",
        "    .foreachBatch(insert_corrupted_messages)\n",
        "    .option(\"checkpointLocation\", \"/content/lake/silver/messages_corrupted/checkpoint\")\n",
        "    .start()\n",
        ")\n",
        "\n",
        "# writeStream fo valid messages\n",
        "query_valid = (df_valid.writeStream\n",
        "    .outputMode('append')\n",
        "    .trigger(processingTime='5 seconds')  # trigger interval to 5 seconds\n",
        "    .foreachBatch(insert_valid_messages)\n",
        "    .option(\"checkpointLocation\", \"/content/lake/silver/messages/checkpoint\")\n",
        "    .start()\n",
        ")\n",
        "\n",
        "# Run the two streams\n",
        "query_corrupted.awaitTermination(20)  # run streaming for at least 20 seconds\n",
        "query_valid.awaitTermination(20)  # run streaming for at least 20 seconds\n",
        "\n",
        "# Stop the two streams\n",
        "query_corrupted.stop()\n",
        "query_valid.stop()"
      ]
    },
    {
      "cell_type": "markdown",
      "metadata": {
        "id": "jLK9jpjCu3xE"
      },
      "source": [
        "### Checking data"
      ]
    },
    {
      "cell_type": "markdown",
      "source": [
        "Results from messages in bronze layer should match with the sum of messages+messages_corrupted in the silver layer."
      ],
      "metadata": {
        "id": "FUSbOTaEdKDS"
      }
    },
    {
      "cell_type": "code",
      "source": [
        "# Count records in Bronze Layer\n",
        "bronze_count = df_bronze.count()\n",
        "print(f\"Number of records in the bronze layer: {bronze_count}\")\n",
        "\n",
        "# Count records of valid messages in Silver Layer\n",
        "df_valid_messages = spark.read.format(\"parquet\").load(\"/content/lake/silver/messages/data\")\n",
        "valid_count = df_valid_messages.count()\n",
        "print(f\"Number of records in silver/messages (valid): {valid_count}\")\n",
        "\n",
        "# Count records of corrupted messages in Silver Layer\n",
        "df_corrupted_messages = spark.read.format(\"parquet\").load(\"/content/lake/silver/messages_corrupted/data\")\n",
        "corrupted_count = df_corrupted_messages.count()\n",
        "print(f\"Number of records in silver/messages_corrupted (corrupted): {corrupted_count}\")\n",
        "\n",
        "# Check if total records in bronze layer = valid messages in silver + corrupted messages in silver\n",
        "if bronze_count == (valid_count + corrupted_count):\n",
        "    print(\"The sum of messages in silver layer matches the number of records in the bronze layer.\")\n",
        "else:\n",
        "    print(\"The sum of messages in silver layer does not match the number of records in the bronze layer.\")\n"
      ],
      "metadata": {
        "colab": {
          "base_uri": "https://localhost:8080/"
        },
        "id": "9tBQTd8TeUKo",
        "outputId": "9551fdbb-e8f9-4b23-ad22-4aa050c47db3"
      },
      "execution_count": null,
      "outputs": [
        {
          "output_type": "stream",
          "name": "stdout",
          "text": [
            "Number of records in the bronze layer: 58\n",
            "Number of records in silver/messages (valid): 36\n",
            "Number of records in silver/messages_corrupted (corrupted): 22\n",
            "The sum of messages in silver layer matches the number of records in the bronze layer.\n"
          ]
        }
      ]
    },
    {
      "cell_type": "code",
      "execution_count": null,
      "metadata": {
        "id": "nk8seEvbmvcU",
        "colab": {
          "base_uri": "https://localhost:8080/"
        },
        "outputId": "88411a3c-069f-4420-f271-d7c81fdc9653"
      },
      "outputs": [
        {
          "output_type": "stream",
          "name": "stdout",
          "text": [
            "+----------+--------------------+-----+----------+--------------------+-------+-------+-------------+----------+\n",
            "|country_id|           timestamp|value|event_type|          message_id|channel|user_id|      country|      date|\n",
            "+----------+--------------------+-----+----------+--------------------+-------+-------+-------------+----------+\n",
            "|      2004|2024-12-08 18:21:...|    1|      NONE|3cfbca75-9a83-435...|    SMS|   1023|       France|2024-12-08|\n",
            "|      2004|2024-12-08 18:21:...|    3|      NONE|3cfbca75-9a83-435...|    SMS|   1023|       France|2024-12-08|\n",
            "|      2004|2024-12-08 18:21:...|    5|      NONE|3cfbca75-9a83-435...|    SMS|   1023|       France|2024-12-08|\n",
            "|      2004|2024-12-08 18:21:...|    7|      NONE|3cfbca75-9a83-435...|    SMS|   1023|       France|2024-12-08|\n",
            "|      2004|2024-12-08 18:21:...|    0|      NONE|3cfbca75-9a83-435...|    SMS|   1023|       France|2024-12-08|\n",
            "|      2004|2024-12-08 18:21:...|    2|      NONE|3cfbca75-9a83-435...|    SMS|   1023|       France|2024-12-08|\n",
            "|      2004|2024-12-08 18:21:...|    4|      NONE|3cfbca75-9a83-435...|    SMS|   1023|       France|2024-12-08|\n",
            "|      2004|2024-12-08 18:21:...|    6|      NONE|3cfbca75-9a83-435...|    SMS|   1023|       France|2024-12-08|\n",
            "|      2004|2024-12-08 18:21:...|   17|      NONE|4feeae9a-793e-4a2...|   PUSH|   1049|       France|2024-12-08|\n",
            "|      2000|2024-12-08 18:22:...|   53|      NONE|df69ee44-a21c-4d0...|  EMAIL|   1040|       Brazil|2024-12-08|\n",
            "|      2000|2024-12-08 18:22:...|   54|          |d395547b-0f19-4ec...|  EMAIL|   1030|       Brazil|2024-12-08|\n",
            "|      2001|2024-12-08 18:21:...|   42|          |c6459c8d-5138-4b3...|  EMAIL|   1015|     Portugal|2024-12-08|\n",
            "|      2001|2024-12-08 18:21:...|   23|          |7b6df2cd-4e71-4aa...|   CHAT|   1021|     Portugal|2024-12-08|\n",
            "|      2007|2024-12-08 18:21:...|   47|          |df69ee44-a21c-4d0...|  OTHER|   1003|United States|2024-12-08|\n",
            "|      2007|2024-12-08 18:21:...|   21|          |54390369-ae60-46c...|   PUSH|   1026|United States|2024-12-08|\n",
            "|      2009|2024-12-08 18:22:...|   49|      NONE|3664d7b0-0916-41b...|   PUSH|   1042|    Australia|2024-12-08|\n",
            "|      2009|2024-12-08 18:21:...|   38|          |87b515f4-4ea9-4a6...|   PUSH|   1009|    Australia|2024-12-08|\n",
            "|      2011|2024-12-08 18:21:...|   30|      NONE|2bae94dc-4489-47c...|  OTHER|   1044|        China|2024-12-08|\n",
            "|      2011|2024-12-08 18:21:...|   36|      NONE|83d5fcf9-8494-4e7...|   PUSH|   1015|        China|2024-12-08|\n",
            "|      2015|2024-12-08 18:22:...|   51|      NONE|b41a8aab-b7f6-4db...|    SMS|   1008|    Argentina|2024-12-08|\n",
            "+----------+--------------------+-----+----------+--------------------+-------+-------+-------------+----------+\n",
            "only showing top 20 rows\n",
            "\n"
          ]
        }
      ],
      "source": [
        "df_valid_messages.show()"
      ]
    },
    {
      "cell_type": "code",
      "source": [
        "df_corrupted_messages.show()"
      ],
      "metadata": {
        "colab": {
          "base_uri": "https://localhost:8080/"
        },
        "id": "ixz91VDEdE-c",
        "outputId": "1978ae66-2b6f-4d70-ec70-743753dda3cd"
      },
      "execution_count": null,
      "outputs": [
        {
          "output_type": "stream",
          "name": "stdout",
          "text": [
            "+----------+--------------------+-----+----------+--------------------+-------+-------+-------------+----------+\n",
            "|country_id|           timestamp|value|event_type|          message_id|channel|user_id|      country|      date|\n",
            "+----------+--------------------+-----+----------+--------------------+-------+-------+-------------+----------+\n",
            "|      2009|2024-12-08 18:21:...|   11|   CREATED|7b6df2cd-4e71-4aa...|    SMS|   1037|    Australia|2024-12-08|\n",
            "|      2009|2024-12-08 18:21:...|   39|      OPEN|87b515f4-4ea9-4a6...|  EMAIL|   1043|    Australia|2024-12-08|\n",
            "|      2009|2024-12-08 18:21:...|   14|      OPEN|fd94c78a-8abb-4a9...|   CHAT|   1020|    Australia|2024-12-08|\n",
            "|      2010|2024-12-08 18:21:...|   40|  RECEIVED|390aa5f4-e2e7-48d...|   PUSH|   1024|        Japan|2024-12-08|\n",
            "|      2010|2024-12-08 18:22:...|   57|   CREATED|5ff356ca-ca76-48f...|  EMAIL|   1002|        Japan|2024-12-08|\n",
            "|      2010|2024-12-08 18:21:...|   44|      SENT|c848b07b-e19c-4ec...|    SMS|   1017|        Japan|2024-12-08|\n",
            "|      2000|2024-12-08 18:21:...|   18|   CREATED|cfa65ffe-429c-419...|  EMAIL|   1010|       Brazil|2024-12-08|\n",
            "|      2000|2024-12-08 18:21:...|   37|   CLICKED|f150c63e-86f7-484...|  EMAIL|   1043|       Brazil|2024-12-08|\n",
            "|      2001|2024-12-08 18:21:...|   35|  RECEIVED|390aa5f4-e2e7-48d...|   CHAT|   1033|     Portugal|2024-12-08|\n",
            "|      2001|2024-12-08 18:21:...|   48|   CLICKED|2bae94dc-4489-47c...|  EMAIL|   1026|     Portugal|2024-12-08|\n",
            "|      2001|2024-12-08 18:21:...|   25|   CLICKED|7e719b33-7d5c-4df...|   PUSH|   1031|     Portugal|2024-12-08|\n",
            "|      2001|2024-12-08 18:21:...|   24|      SENT|fdb75f8e-d84d-444...|  EMAIL|   1037|     Portugal|2024-12-08|\n",
            "|      2012|2024-12-08 18:21:...|   34|   CREATED|c848b07b-e19c-4ec...|  OTHER|   1012|        India|2024-12-08|\n",
            "|      2012|2024-12-08 18:22:...|   50|      SENT|9b08f8d9-1d22-406...|  OTHER|   1012|        India|2024-12-08|\n",
            "|      2012|2024-12-08 18:21:...|   16|      SENT|62eacee7-c0a8-4f7...|   CHAT|   1005|        India|2024-12-08|\n",
            "|      2012|2024-12-08 18:21:...|    8|      OPEN|af7712d1-6823-4c3...|   PUSH|   1041|        India|2024-12-08|\n",
            "|      2012|2024-12-08 18:21:...|    9|      OPEN|af7712d1-6823-4c3...|   PUSH|   1041|        India|2024-12-08|\n",
            "|      2007|2024-12-08 18:21:...|   19|   CREATED|04507278-0080-4ee...|   CHAT|   1005|United States|2024-12-08|\n",
            "|      2007|2024-12-08 18:21:...|   43|   CLICKED|c848b07b-e19c-4ec...|   PUSH|   1048|United States|2024-12-08|\n",
            "|      2007|2024-12-08 18:21:...|   46|   CREATED|f150c63e-86f7-484...|   PUSH|   1000|United States|2024-12-08|\n",
            "+----------+--------------------+-----+----------+--------------------+-------+-------+-------------+----------+\n",
            "only showing top 20 rows\n",
            "\n"
          ]
        }
      ]
    },
    {
      "cell_type": "markdown",
      "metadata": {
        "id": "rfxIlBISSvRP"
      },
      "source": [
        "# Challenge 2\n",
        "\n",
        "- Run business report\n",
        "- But first, there is a bug in the system which is causing some duplicated messages, we need to exclude these lines from the report\n",
        "\n",
        "- Removing duplicates logic:\n",
        "  - Identify possible duplicates on message_id, event_type and channel\n",
        "  - In case of duplicates, consider only the first message (occurrence by timestamp)\n",
        "  - Ex:\n",
        "    In table below, the correct message to consider is the second line\n",
        "\n",
        "```\n",
        "    message_id | channel | event_type | timestamp\n",
        "    123        | CHAT    | CREATED    | 10:10:01\n",
        "    123        | CHAT    | CREATED    | 07:56:45 (first occurrence)\n",
        "    123        | CHAT    | CREATED    | 08:13:33\n",
        "```\n",
        "\n",
        "- After cleaning the data we're able to create the busines report"
      ]
    },
    {
      "cell_type": "code",
      "source": [
        "from pyspark.sql import functions as F\n",
        "from pyspark.sql.window import Window\n",
        "\n",
        "df_valid_messages = spark.read.format(\"parquet\").load(\"/content/lake/silver/messages/data\")"
      ],
      "metadata": {
        "id": "cdI4mU_Bt6Qu"
      },
      "execution_count": null,
      "outputs": []
    },
    {
      "cell_type": "code",
      "source": [
        "# Group by message_id, event_type, and channel to check duplicates\n",
        "duplicates = df_valid_messages.groupBy(\"message_id\", \"event_type\", \"channel\").count().filter(\"count > 1\")\n",
        "\n",
        "duplicates.show(10,False)"
      ],
      "metadata": {
        "colab": {
          "base_uri": "https://localhost:8080/"
        },
        "id": "VzxaWxHCt7Ve",
        "outputId": "9601be5d-5acf-46fb-eb6e-af0178715941"
      },
      "execution_count": null,
      "outputs": [
        {
          "output_type": "stream",
          "name": "stdout",
          "text": [
            "+------------------------------------+----------+-------+-----+\n",
            "|message_id                          |event_type|channel|count|\n",
            "+------------------------------------+----------+-------+-----+\n",
            "|af7712d1-6823-4c3a-8ff5-6b7f064b59bb|OPEN      |PUSH   |2    |\n",
            "+------------------------------------+----------+-------+-----+\n",
            "\n"
          ]
        }
      ]
    },
    {
      "cell_type": "code",
      "source": [
        "# Show records with message_id 'af7712d1-6823-4c3a-8ff5-6b7f064b59bb' (duplicated record)\n",
        "df_valid_messages.filter(df_valid_messages.message_id == \"af7712d1-6823-4c3a-8ff5-6b7f064b59bb\").show(10, False)"
      ],
      "metadata": {
        "colab": {
          "base_uri": "https://localhost:8080/"
        },
        "id": "8kwhNRC6umh7",
        "outputId": "acbcc254-bd07-43ad-ac40-1d4a4f0c5c8b"
      },
      "execution_count": null,
      "outputs": [
        {
          "output_type": "stream",
          "name": "stdout",
          "text": [
            "+----------+-----------------------+-----+----------+------------------------------------+-------+-------+-------+----------+\n",
            "|country_id|timestamp              |value|event_type|message_id                          |channel|user_id|country|date      |\n",
            "+----------+-----------------------+-----+----------+------------------------------------+-------+-------+-------+----------+\n",
            "|2012      |2024-12-08 18:21:19.519|8    |OPEN      |af7712d1-6823-4c3a-8ff5-6b7f064b59bb|PUSH   |1041   |India  |2024-12-08|\n",
            "|2012      |2024-12-08 18:21:20.519|9    |OPEN      |af7712d1-6823-4c3a-8ff5-6b7f064b59bb|PUSH   |1041   |India  |2024-12-08|\n",
            "+----------+-----------------------+-----+----------+------------------------------------+-------+-------+-------+----------+\n",
            "\n"
          ]
        }
      ]
    },
    {
      "cell_type": "code",
      "source": [
        "# Count total records before dedup\n",
        "total_before_dedup = df_valid_messages.count()\n",
        "print(f\"Total before deduplication: {total_before_dedup}\")"
      ],
      "metadata": {
        "colab": {
          "base_uri": "https://localhost:8080/"
        },
        "id": "QjSIuhCkvIx0",
        "outputId": "d77c417b-07d4-4500-8de9-8774e6c469c7"
      },
      "execution_count": null,
      "outputs": [
        {
          "output_type": "stream",
          "name": "stdout",
          "text": [
            "Total before deduplication: 36\n"
          ]
        }
      ]
    },
    {
      "cell_type": "code",
      "execution_count": null,
      "metadata": {
        "id": "R3J9XyOHhqvU"
      },
      "outputs": [],
      "source": [
        "# Remove duplicated records\n",
        "dedup = df_valid_messages.withColumn(\"row_number\",\n",
        "                                     F.row_number()\\\n",
        "                                     .over(Window.partitionBy(\"message_id\", \"event_type\", \"channel\")\\\n",
        "                                     .orderBy(\"timestamp\"))).filter(\"row_number = 1\").drop(\"row_number\")"
      ]
    },
    {
      "cell_type": "code",
      "source": [
        "# Count total records after dedup\n",
        "total_after_dedup = dedup.count()\n",
        "print(f\"Total after deduplication: {total_after_dedup}\")"
      ],
      "metadata": {
        "colab": {
          "base_uri": "https://localhost:8080/"
        },
        "id": "Mw2rULAIth0Z",
        "outputId": "955c9b4b-aab7-462a-b4a2-c6974dd9f5fd"
      },
      "execution_count": null,
      "outputs": [
        {
          "output_type": "stream",
          "name": "stdout",
          "text": [
            "Total after deduplication: 35\n"
          ]
        }
      ]
    },
    {
      "cell_type": "code",
      "source": [
        "# Group by message_id, event_type, and channel to check duplicates\n",
        "duplicates_check = dedup.groupBy(\"message_id\", \"event_type\", \"channel\").count().filter(\"count > 1\")\n",
        "\n",
        "duplicates_check.show()\n"
      ],
      "metadata": {
        "colab": {
          "base_uri": "https://localhost:8080/"
        },
        "id": "ZZXbEtQ9srlL",
        "outputId": "d4d02689-84e9-4480-b214-5577b0621f2b"
      },
      "execution_count": null,
      "outputs": [
        {
          "output_type": "stream",
          "name": "stdout",
          "text": [
            "+----------+----------+-------+-----+\n",
            "|message_id|event_type|channel|count|\n",
            "+----------+----------+-------+-----+\n",
            "+----------+----------+-------+-----+\n",
            "\n"
          ]
        }
      ]
    },
    {
      "cell_type": "markdown",
      "metadata": {
        "id": "RF9L9i25lk74"
      },
      "source": [
        "### Report 1\n",
        "  - Aggregate data by date, event_type and channel\n",
        "  - Count number of messages\n",
        "  - Pivot event_type from rows into columns\n",
        "  - Schema expected:\n",
        "  \n",
        "```\n",
        "|      date|channel|CLICKED|CREATED|OPEN|RECEIVED|SENT|\n",
        "+----------+-------+-------+-------+----+--------+----+\n",
        "|2024-12-03|    SMS|      4|      4|   1|       1|   5|\n",
        "|2024-12-03|   CHAT|      3|      7|   5|       8|   4|\n",
        "|2024-12-03|   PUSH|   NULL|      3|   4|       3|   4|\n",
        "```"
      ]
    },
    {
      "cell_type": "code",
      "source": [
        "dedup.show(10,False)"
      ],
      "metadata": {
        "colab": {
          "base_uri": "https://localhost:8080/"
        },
        "id": "ap2QiUa0w4qb",
        "outputId": "b316e39e-eadc-4d5d-d2c2-4467783059af"
      },
      "execution_count": null,
      "outputs": [
        {
          "output_type": "stream",
          "name": "stdout",
          "text": [
            "+----------+-----------------------+-----+----------+------------------------------------+-------+-------+-------------+----------+\n",
            "|country_id|timestamp              |value|event_type|message_id                          |channel|user_id|country      |date      |\n",
            "+----------+-----------------------+-----+----------+------------------------------------+-------+-------+-------------+----------+\n",
            "|2007      |2024-12-08 18:21:30.519|19   |CREATED   |04507278-0080-4ee2-82f0-245fe2e9bebd|CHAT   |1005   |United States|2024-12-08|\n",
            "|2015      |2024-12-08 18:21:52.519|41   |SENT      |0e7a61a1-9962-4bda-a4e4-a2f6d15ae5b6|CHAT   |1019   |Argentina    |2024-12-08|\n",
            "|2007      |2024-12-08 18:22:07.519|56   |SENT      |273de6cf-f2a7-4326-adc5-c7f766b3ad4b|CHAT   |1010   |United States|2024-12-08|\n",
            "|2001      |2024-12-08 18:21:59.519|48   |CLICKED   |2bae94dc-4489-47cb-9c9f-1a9b3692a651|EMAIL  |1026   |Portugal     |2024-12-08|\n",
            "|2001      |2024-12-08 18:21:46.519|35   |RECEIVED  |390aa5f4-e2e7-48d1-a30f-7ef81b5443f4|CHAT   |1033   |Portugal     |2024-12-08|\n",
            "|2010      |2024-12-08 18:21:51.519|40   |RECEIVED  |390aa5f4-e2e7-48d1-a30f-7ef81b5443f4|PUSH   |1024   |Japan        |2024-12-08|\n",
            "|2011      |2024-12-08 18:22:06.519|55   |RECEIVED  |3c2d29dd-c920-45aa-a141-498937b3e56c|EMAIL  |1019   |China        |2024-12-08|\n",
            "|2010      |2024-12-08 18:22:08.519|57   |CREATED   |5ff356ca-ca76-48ff-b129-eb374cbe3796|EMAIL  |1002   |Japan        |2024-12-08|\n",
            "|2012      |2024-12-08 18:21:27.519|16   |SENT      |62eacee7-c0a8-4f7c-8a33-2103f37d9153|CHAT   |1005   |India        |2024-12-08|\n",
            "|2005      |2024-12-08 18:21:40.519|29   |CLICKED   |7b6df2cd-4e71-4aa3-972d-5716dbf23fae|EMAIL  |1002   |Italy        |2024-12-08|\n",
            "+----------+-----------------------+-----+----------+------------------------------------+-------+-------+-------------+----------+\n",
            "only showing top 10 rows\n",
            "\n"
          ]
        }
      ]
    },
    {
      "cell_type": "code",
      "execution_count": null,
      "metadata": {
        "id": "UPHSMSXnTKgu",
        "colab": {
          "base_uri": "https://localhost:8080/"
        },
        "outputId": "f5b076ab-9dd5-4dc1-e847-af915c649c89"
      },
      "outputs": [
        {
          "output_type": "stream",
          "name": "stdout",
          "text": [
            "+----------+-------+-------+-------+----+--------+----+\n",
            "|date      |channel|CLICKED|CREATED|OPEN|RECEIVED|SENT|\n",
            "+----------+-------+-------+-------+----+--------+----+\n",
            "|2024-12-08|OTHER  |0      |1      |0   |1       |1   |\n",
            "|2024-12-08|CHAT   |1      |1      |3   |1       |4   |\n",
            "|2024-12-08|SMS    |0      |1      |1   |1       |1   |\n",
            "|2024-12-08|EMAIL  |4      |2      |2   |1       |2   |\n",
            "|2024-12-08|PUSH   |2      |1      |1   |3       |0   |\n",
            "+----------+-------+-------+-------+----+--------+----+\n",
            "\n"
          ]
        }
      ],
      "source": [
        "# Aggregate data and count messages by date, event_type and channel\n",
        "qty_messages = dedup.groupBy(\"date\", \"channel\", \"event_type\").count()\n",
        "\n",
        "# Pivot event_type from rows into columns\n",
        "pivoted_event_type = qty_messages.groupBy(\"date\", \"channel\") \\\n",
        "    .pivot(\"event_type\") \\\n",
        "    .agg(F.sum(\"count\"))\n",
        "\n",
        "# NULL substituted by 0\n",
        "pivoted_event_type = pivoted_event_type.fillna(0)\n",
        "\n",
        "pivoted_event_type.show(10, False)\n"
      ]
    },
    {
      "cell_type": "markdown",
      "metadata": {
        "id": "bxwOawo2lwQH"
      },
      "source": [
        "## Report 2\n",
        "\n",
        "- Identify the most active users by channel (sorted by number of iterations)\n",
        "- Schema expected:\n",
        "\n",
        "```\n",
        "+-------+----------+----+-----+-----+----+---+\n",
        "|user_id|iterations|CHAT|EMAIL|OTHER|PUSH|SMS|\n",
        "+-------+----------+----+-----+-----+----+---+\n",
        "|   1022|         5|   2|    0|    1|   0|  2|\n",
        "|   1004|         4|   1|    1|    1|   1|  0|\n",
        "|   1013|         4|   0|    0|    2|   1|  1|\n",
        "|   1020|         4|   2|    0|    1|   1|  0|\n",
        "```\n"
      ]
    },
    {
      "cell_type": "code",
      "execution_count": null,
      "metadata": {
        "id": "rsS7bkAJmWsW",
        "colab": {
          "base_uri": "https://localhost:8080/"
        },
        "outputId": "44d337b2-cc21-4e11-88ba-c8d31ec3fb70"
      },
      "outputs": [
        {
          "output_type": "stream",
          "name": "stdout",
          "text": [
            "+-------+----------+----+-----+-----+----+---+\n",
            "|user_id|iterations|CHAT|EMAIL|OTHER|PUSH|SMS|\n",
            "+-------+----------+----+-----+-----+----+---+\n",
            "|   1005|         2|   2|    0|    0|   0|  0|\n",
            "|   1019|         2|   1|    1|    0|   0|  0|\n",
            "|   1010|         2|   1|    1|    0|   0|  0|\n",
            "|   1002|         2|   0|    2|    0|   0|  0|\n",
            "|   1037|         2|   0|    1|    0|   0|  1|\n",
            "|   1023|         2|   1|    0|    0|   0|  1|\n",
            "|   1043|         2|   0|    2|    0|   0|  0|\n",
            "|   1033|         2|   1|    0|    0|   1|  0|\n",
            "|   1011|         2|   0|    0|    1|   1|  0|\n",
            "|   1012|         2|   0|    0|    2|   0|  0|\n",
            "|   1031|         1|   0|    0|    0|   1|  0|\n",
            "|   1047|         1|   0|    1|    0|   0|  0|\n",
            "|   1026|         1|   0|    1|    0|   0|  0|\n",
            "|   1029|         1|   1|    0|    0|   0|  0|\n",
            "|   1048|         1|   0|    0|    0|   1|  0|\n",
            "|   1050|         1|   0|    1|    0|   0|  0|\n",
            "|   1045|         1|   1|    0|    0|   0|  0|\n",
            "|   1017|         1|   0|    0|    0|   0|  1|\n",
            "|   1041|         1|   0|    0|    0|   1|  0|\n",
            "|   1000|         1|   0|    0|    0|   1|  0|\n",
            "+-------+----------+----+-----+-----+----+---+\n",
            "only showing top 20 rows\n",
            "\n"
          ]
        }
      ],
      "source": [
        "# Aggregate data and count by user_id and channel\n",
        "user_channel = dedup.groupBy(\"user_id\", \"channel\").count()\n",
        "\n",
        "# Pivot channel from rows into columns\n",
        "pivoted_channel = user_channel.groupBy(\"user_id\").pivot(\"channel\").sum(\"count\")\n",
        "\n",
        "# NULL substituted by 0\n",
        "pivoted_channel = pivoted_channel.fillna(0)\n",
        "\n",
        "# Total of iterations per user_id (iterations will be the sum of messages by channel per user_id)\n",
        "pivoted_channel = pivoted_channel.withColumn(\"iterations\", sum(F.col(c) for c in pivoted_channel.columns if c != \"user_id\"))\n",
        "\n",
        "# Reorder columns so iterations appears after user_id\n",
        "columns = [\"user_id\", \"iterations\"] + [col for col in pivoted_channel.columns if col not in [\"user_id\", \"iterations\"]]\n",
        "pivoted_channel = pivoted_channel.select(*columns)\n",
        "\n",
        "# Order (desc) user_id by iterations to see the most active user_id\n",
        "most_active_users = pivoted_channel.orderBy(F.desc(\"iterations\"))\n",
        "\n",
        "most_active_users.show()\n"
      ]
    },
    {
      "cell_type": "markdown",
      "metadata": {
        "id": "a9_kzDbDwDOS"
      },
      "source": [
        "# Challenge 3"
      ]
    },
    {
      "cell_type": "code",
      "execution_count": null,
      "metadata": {
        "id": "Ef0RjFTxwE5y"
      },
      "outputs": [],
      "source": [
        "# Theoretical question:\n",
        "\n",
        "# A new usecase requires the message data to be aggregate in near real time\n",
        "# They want to build a dashboard embedded in the platform website to analyze message data in low latency (few minutes)\n",
        "# This application will access directly the data aggregated by streaming process\n",
        "\n",
        "# Q1:\n",
        "- What would be your suggestion to achieve that using Spark Structure Streaming?\n",
        "Or would you choose a different data processing tool?\n",
        "\n",
        "- Which storage would you use and why? (database?, data lake?, kafka?)\n",
        "\n"
      ]
    },
    {
      "cell_type": "markdown",
      "source": [
        "Since the new usecase requires near real time, we could opt for a tool that provides micro-batch processing. As we need to aggregate data (a stateful operation), we can use **Spark Structure Streaming**, even if its low latency (few seconds to a few minutes of delay) is not as low as with a real-time streaming tool. For the refered case, Spark Structure Streaming seems to serve the required purpose.\n",
        "\n",
        "For storage, I would say the best option is to use a **datalake**. It would be able to handle the aggregated data that is going to be visualized in the dashboard, something that the database would not be able to do as good. Regarding Kafka, it is said it is not designed for long-term data storage or complex querying, besides being expensive."
      ],
      "metadata": {
        "id": "OVJfODxybwjK"
      }
    }
  ],
  "metadata": {
    "colab": {
      "provenance": [],
      "collapsed_sections": [
        "d9LeYFsPTjAb",
        "cDGMKwBdi1qy"
      ]
    },
    "kernelspec": {
      "display_name": "Python 3",
      "name": "python3"
    },
    "language_info": {
      "name": "python"
    }
  },
  "nbformat": 4,
  "nbformat_minor": 0
}